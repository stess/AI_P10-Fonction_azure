{
 "cells": [
  {
   "cell_type": "markdown",
   "id": "02dbf494-30b4-4954-9b27-ee36b0a35faf",
   "metadata": {},
   "source": [
    "***AI Engineer - P10 - Réalisez une application de recommandation de contenu***"
   ]
  },
  {
   "cell_type": "markdown",
   "id": "ad9e3ef3-4b95-4dad-8767-3c50da664cbf",
   "metadata": {},
   "source": [
    "# Importation des modules"
   ]
  },
  {
   "cell_type": "code",
   "execution_count": 1,
   "id": "be7f8ef7-de86-4ca8-b0be-e59159c34d2b",
   "metadata": {},
   "outputs": [],
   "source": [
    "import pandas as pd\n",
    "import numpy as np\n",
    "import pickle\n",
    "import matplotlib.pyplot as plt\n",
    "import seaborn as sns\n",
    "\n",
    "import os\n",
    "\n",
    "from sklearn.decomposition import PCA\n",
    "\n",
    "from collections import defaultdict\n",
    "\n",
    "\n",
    "from sklearn.metrics.pairwise import cosine_similarity\n",
    "from sklearn.metrics import ndcg_score\n",
    "from sklearn.metrics import mean_squared_error, mean_absolute_error\n",
    "\n",
    "\n",
    "from surprise import Dataset, Reader, SVD\n",
    "from surprise.model_selection import GridSearchCV, cross_validate, train_test_split\n",
    "from heapq import nlargest"
   ]
  },
  {
   "cell_type": "markdown",
   "id": "8994e9be-b00c-42c0-b404-fc47ad3d670a",
   "metadata": {},
   "source": [
    "# Fonctions"
   ]
  },
  {
   "cell_type": "code",
   "execution_count": 2,
   "id": "9022c110-fc1f-4932-b300-a2cca87932da",
   "metadata": {},
   "outputs": [],
   "source": [
    "# Fonction pour récupérer et concaténer les fichiers de clicks\n",
    "def load_clicks_data(directory):\n",
    "    all_files = [os.path.join(directory, f) for f in os.listdir(directory) if f.startswith(\"clicks_hour_\") and f.endswith(\".csv\")]\n",
    "    df_clicks = pd.concat([pd.read_csv(file) for file in all_files], ignore_index=True)\n",
    "    return df_clicks"
   ]
  },
  {
   "cell_type": "code",
   "execution_count": 3,
   "id": "19c7f6d7-1e8b-4f29-b11e-8564aa8a1659",
   "metadata": {},
   "outputs": [],
   "source": [
    "# Fonction générique pour l'AED et visualisation\n",
    "def perform_aed(df, titre=\"Dataset\"):\n",
    "    print(f\"--- {titre} : Informations Générales ---\")\n",
    "    print(f\"Dimensions (lignes, colonnes) : {df.shape}\")\n",
    "    print(\"Colonnes et types de données :\")\n",
    "    print(df.dtypes)\n",
    "    print(\"\\nValeurs manquantes par colonne :\")\n",
    "    print(df.isnull().sum())\n",
    "    print(\"\\nExemple de données :\")\n",
    "    print(df.head())\n",
    "    print(\"\\n--- Vue Statistique ---\")\n",
    "    print(df.describe(include='all'))\n",
    "\n",
    "    # Distribution des colonnes numériques\n",
    "    numeric_cols = df.select_dtypes(include=['float64', 'int64']).columns\n",
    "    if not numeric_cols.empty:\n",
    "        df[numeric_cols].hist(figsize=(15, 10), bins=20, edgecolor='black')\n",
    "        plt.suptitle(f\"Distributions des colonnes numériques pour {titre}\", fontsize=16)\n",
    "        plt.show()\n",
    "\n",
    "    # Analyse des colonnes catégoriques\n",
    "    categorical_cols = df.select_dtypes(include=['object', 'category']).columns\n",
    "    for col in categorical_cols:\n",
    "        if df[col].nunique() <= 10:  # Pour éviter les graphiques surchargés pour les colonnes très diversifiées\n",
    "            plt.figure(figsize=(10, 5))\n",
    "            sns.countplot(data=df, x=col, order=df[col].value_counts().index)\n",
    "            plt.title(f\"Répartition des catégories pour {col} dans {titre}\", fontsize=14)\n",
    "            plt.xticks(rotation=45)\n",
    "            plt.show()\n",
    "\n",
    "    # Matrice de corrélation\n",
    "    if len(numeric_cols) > 1:\n",
    "        plt.figure(figsize=(10, 8))\n",
    "        corr = df[numeric_cols].corr(method=\"spearman\")\n",
    "        sns.heatmap(corr, annot=True, cmap='coolwarm', fmt=\".2f\")\n",
    "        plt.title(f\"Carte de corrélation pour {titre} (Spearman)\", fontsize=16)\n",
    "        plt.show()"
   ]
  },
  {
   "cell_type": "code",
   "execution_count": 4,
   "id": "92b5afff-9e70-4624-9dc0-f50b374f2a6e",
   "metadata": {},
   "outputs": [],
   "source": [
    "# Fonction pour la création des noms des colonnes (pour le fichier embeddings)\n",
    "def generate_column_names(num_columns):\n",
    "    return [f\"embedding{i+1}\" for i in range(num_columns)]"
   ]
  },
  {
   "cell_type": "markdown",
   "id": "e2d5dda4-458f-4c62-80fa-07efa98c9b72",
   "metadata": {},
   "source": [
    "# Chargement des données"
   ]
  },
  {
   "cell_type": "code",
   "execution_count": 5,
   "id": "a4f4b5fe-b0ec-4f3a-8494-603add556e14",
   "metadata": {},
   "outputs": [],
   "source": [
    "df_articles = pd.read_csv(r\"datas/articles_metadata.csv\")"
   ]
  },
  {
   "cell_type": "code",
   "execution_count": 6,
   "id": "c4aa7559-8a8d-48b8-ad63-d7781aaf8bfe",
   "metadata": {},
   "outputs": [],
   "source": [
    "# Charger les fichiers de clicks\n",
    "directory = \"datas/clicks/\"\n",
    "df_clicks = load_clicks_data(directory)"
   ]
  },
  {
   "cell_type": "code",
   "execution_count": 7,
   "id": "7908217e-06db-439a-948c-06c3fb3badb2",
   "metadata": {},
   "outputs": [],
   "source": [
    "embeddings_file = \"datas/articles_embeddings.pickle\"\n",
    "# Charger les embeddings (Pickle)\n",
    "with open(embeddings_file, 'rb') as f:\n",
    "    embeddings_array = pickle.load(f)"
   ]
  },
  {
   "cell_type": "markdown",
   "id": "893ea467-5678-4b5f-9974-09c4517b353a",
   "metadata": {},
   "source": [
    "# Analyse exploratoire des données"
   ]
  },
  {
   "cell_type": "markdown",
   "id": "c2a131f1-6273-4271-b156-1294f8500bed",
   "metadata": {},
   "source": [
    "## Articles"
   ]
  },
  {
   "cell_type": "code",
   "execution_count": 8,
   "id": "5a6c6383-19c1-4905-9816-8fd7ce43eb9e",
   "metadata": {},
   "outputs": [
    {
     "data": {
      "text/html": [
       "<div>\n",
       "<style scoped>\n",
       "    .dataframe tbody tr th:only-of-type {\n",
       "        vertical-align: middle;\n",
       "    }\n",
       "\n",
       "    .dataframe tbody tr th {\n",
       "        vertical-align: top;\n",
       "    }\n",
       "\n",
       "    .dataframe thead th {\n",
       "        text-align: right;\n",
       "    }\n",
       "</style>\n",
       "<table border=\"1\" class=\"dataframe\">\n",
       "  <thead>\n",
       "    <tr style=\"text-align: right;\">\n",
       "      <th></th>\n",
       "      <th>article_id</th>\n",
       "      <th>category_id</th>\n",
       "      <th>created_at_ts</th>\n",
       "      <th>publisher_id</th>\n",
       "      <th>words_count</th>\n",
       "    </tr>\n",
       "  </thead>\n",
       "  <tbody>\n",
       "    <tr>\n",
       "      <th>0</th>\n",
       "      <td>0</td>\n",
       "      <td>0</td>\n",
       "      <td>1513144419000</td>\n",
       "      <td>0</td>\n",
       "      <td>168</td>\n",
       "    </tr>\n",
       "    <tr>\n",
       "      <th>1</th>\n",
       "      <td>1</td>\n",
       "      <td>1</td>\n",
       "      <td>1405341936000</td>\n",
       "      <td>0</td>\n",
       "      <td>189</td>\n",
       "    </tr>\n",
       "    <tr>\n",
       "      <th>2</th>\n",
       "      <td>2</td>\n",
       "      <td>1</td>\n",
       "      <td>1408667706000</td>\n",
       "      <td>0</td>\n",
       "      <td>250</td>\n",
       "    </tr>\n",
       "    <tr>\n",
       "      <th>3</th>\n",
       "      <td>3</td>\n",
       "      <td>1</td>\n",
       "      <td>1408468313000</td>\n",
       "      <td>0</td>\n",
       "      <td>230</td>\n",
       "    </tr>\n",
       "    <tr>\n",
       "      <th>4</th>\n",
       "      <td>4</td>\n",
       "      <td>1</td>\n",
       "      <td>1407071171000</td>\n",
       "      <td>0</td>\n",
       "      <td>162</td>\n",
       "    </tr>\n",
       "  </tbody>\n",
       "</table>\n",
       "</div>"
      ],
      "text/plain": [
       "   article_id  category_id  created_at_ts  publisher_id  words_count\n",
       "0           0            0  1513144419000             0          168\n",
       "1           1            1  1405341936000             0          189\n",
       "2           2            1  1408667706000             0          250\n",
       "3           3            1  1408468313000             0          230\n",
       "4           4            1  1407071171000             0          162"
      ]
     },
     "execution_count": 8,
     "metadata": {},
     "output_type": "execute_result"
    }
   ],
   "source": [
    "df_articles.head()"
   ]
  },
  {
   "cell_type": "code",
   "execution_count": 9,
   "id": "a248d778-f214-4b27-a7ea-a8bccfb2089a",
   "metadata": {},
   "outputs": [
    {
     "data": {
      "text/html": [
       "<div>\n",
       "<style scoped>\n",
       "    .dataframe tbody tr th:only-of-type {\n",
       "        vertical-align: middle;\n",
       "    }\n",
       "\n",
       "    .dataframe tbody tr th {\n",
       "        vertical-align: top;\n",
       "    }\n",
       "\n",
       "    .dataframe thead th {\n",
       "        text-align: right;\n",
       "    }\n",
       "</style>\n",
       "<table border=\"1\" class=\"dataframe\">\n",
       "  <thead>\n",
       "    <tr style=\"text-align: right;\">\n",
       "      <th></th>\n",
       "      <th>article_id</th>\n",
       "      <th>category_id</th>\n",
       "    </tr>\n",
       "  </thead>\n",
       "  <tbody>\n",
       "    <tr>\n",
       "      <th>0</th>\n",
       "      <td>0</td>\n",
       "      <td>0</td>\n",
       "    </tr>\n",
       "    <tr>\n",
       "      <th>1</th>\n",
       "      <td>1</td>\n",
       "      <td>1</td>\n",
       "    </tr>\n",
       "    <tr>\n",
       "      <th>2</th>\n",
       "      <td>2</td>\n",
       "      <td>1</td>\n",
       "    </tr>\n",
       "    <tr>\n",
       "      <th>3</th>\n",
       "      <td>3</td>\n",
       "      <td>1</td>\n",
       "    </tr>\n",
       "    <tr>\n",
       "      <th>4</th>\n",
       "      <td>4</td>\n",
       "      <td>1</td>\n",
       "    </tr>\n",
       "  </tbody>\n",
       "</table>\n",
       "</div>"
      ],
      "text/plain": [
       "   article_id  category_id\n",
       "0           0            0\n",
       "1           1            1\n",
       "2           2            1\n",
       "3           3            1\n",
       "4           4            1"
      ]
     },
     "execution_count": 9,
     "metadata": {},
     "output_type": "execute_result"
    }
   ],
   "source": [
    "df_articles = df_articles[[\"article_id\", \"category_id\"]]\n",
    "df_articles.head()"
   ]
  },
  {
   "cell_type": "code",
   "execution_count": 10,
   "id": "57a7500c-fe37-4631-b3c4-b2cccbf11c03",
   "metadata": {},
   "outputs": [
    {
     "name": "stdout",
     "output_type": "stream",
     "text": [
      "--- Articles Metadata : Informations Générales ---\n",
      "Dimensions (lignes, colonnes) : (364047, 2)\n",
      "Colonnes et types de données :\n",
      "article_id     int64\n",
      "category_id    int64\n",
      "dtype: object\n",
      "\n",
      "Valeurs manquantes par colonne :\n",
      "article_id     0\n",
      "category_id    0\n",
      "dtype: int64\n",
      "\n",
      "Exemple de données :\n",
      "   article_id  category_id\n",
      "0           0            0\n",
      "1           1            1\n",
      "2           2            1\n",
      "3           3            1\n",
      "4           4            1\n",
      "\n",
      "--- Vue Statistique ---\n",
      "          article_id    category_id\n",
      "count  364047.000000  364047.000000\n",
      "mean   182023.000000     283.108239\n",
      "std    105091.461061     136.723470\n",
      "min         0.000000       0.000000\n",
      "25%     91011.500000     199.000000\n",
      "50%    182023.000000     301.000000\n",
      "75%    273034.500000     399.000000\n",
      "max    364046.000000     460.000000\n"
     ]
    },
    {
     "data": {
      "image/png": "[encoded data removed]",
      "text/plain": [
       "<Figure size 1500x1000 with 2 Axes>"
      ]
     },
     "metadata": {},
     "output_type": "display_data"
    },
    {
     "data": {
      "image/png": "[encoded data removed]",
      "text/plain": [
       "<Figure size 1000x800 with 2 Axes>"
      ]
     },
     "metadata": {},
     "output_type": "display_data"
    }
   ],
   "source": [
    "perform_aed(df_articles, titre=\"Articles Metadata\")"
   ]
  },
  {
   "cell_type": "markdown",
   "id": "b0943069-ac05-4853-af47-7cf08953b626",
   "metadata": {},
   "source": [
    "## Clicks"
   ]
  },
  {
   "cell_type": "code",
   "execution_count": 11,
   "id": "3d47960f-eb01-4971-acbf-86d148d64639",
   "metadata": {},
   "outputs": [
    {
     "data": {
      "text/html": [
       "<div>\n",
       "<style scoped>\n",
       "    .dataframe tbody tr th:only-of-type {\n",
       "        vertical-align: middle;\n",
       "    }\n",
       "\n",
       "    .dataframe tbody tr th {\n",
       "        vertical-align: top;\n",
       "    }\n",
       "\n",
       "    .dataframe thead th {\n",
       "        text-align: right;\n",
       "    }\n",
       "</style>\n",
       "<table border=\"1\" class=\"dataframe\">\n",
       "  <thead>\n",
       "    <tr style=\"text-align: right;\">\n",
       "      <th></th>\n",
       "      <th>user_id</th>\n",
       "      <th>session_id</th>\n",
       "      <th>session_start</th>\n",
       "      <th>session_size</th>\n",
       "      <th>click_article_id</th>\n",
       "      <th>click_timestamp</th>\n",
       "      <th>click_environment</th>\n",
       "      <th>click_deviceGroup</th>\n",
       "      <th>click_os</th>\n",
       "      <th>click_country</th>\n",
       "      <th>click_region</th>\n",
       "      <th>click_referrer_type</th>\n",
       "    </tr>\n",
       "  </thead>\n",
       "  <tbody>\n",
       "    <tr>\n",
       "      <th>0</th>\n",
       "      <td>0</td>\n",
       "      <td>1506825423271737</td>\n",
       "      <td>1506825423000</td>\n",
       "      <td>2</td>\n",
       "      <td>157541</td>\n",
       "      <td>1506826828020</td>\n",
       "      <td>4</td>\n",
       "      <td>3</td>\n",
       "      <td>20</td>\n",
       "      <td>1</td>\n",
       "      <td>20</td>\n",
       "      <td>2</td>\n",
       "    </tr>\n",
       "    <tr>\n",
       "      <th>1</th>\n",
       "      <td>0</td>\n",
       "      <td>1506825423271737</td>\n",
       "      <td>1506825423000</td>\n",
       "      <td>2</td>\n",
       "      <td>68866</td>\n",
       "      <td>1506826858020</td>\n",
       "      <td>4</td>\n",
       "      <td>3</td>\n",
       "      <td>20</td>\n",
       "      <td>1</td>\n",
       "      <td>20</td>\n",
       "      <td>2</td>\n",
       "    </tr>\n",
       "    <tr>\n",
       "      <th>2</th>\n",
       "      <td>1</td>\n",
       "      <td>1506825426267738</td>\n",
       "      <td>1506825426000</td>\n",
       "      <td>2</td>\n",
       "      <td>235840</td>\n",
       "      <td>1506827017951</td>\n",
       "      <td>4</td>\n",
       "      <td>1</td>\n",
       "      <td>17</td>\n",
       "      <td>1</td>\n",
       "      <td>16</td>\n",
       "      <td>2</td>\n",
       "    </tr>\n",
       "    <tr>\n",
       "      <th>3</th>\n",
       "      <td>1</td>\n",
       "      <td>1506825426267738</td>\n",
       "      <td>1506825426000</td>\n",
       "      <td>2</td>\n",
       "      <td>96663</td>\n",
       "      <td>1506827047951</td>\n",
       "      <td>4</td>\n",
       "      <td>1</td>\n",
       "      <td>17</td>\n",
       "      <td>1</td>\n",
       "      <td>16</td>\n",
       "      <td>2</td>\n",
       "    </tr>\n",
       "    <tr>\n",
       "      <th>4</th>\n",
       "      <td>2</td>\n",
       "      <td>1506825435299739</td>\n",
       "      <td>1506825435000</td>\n",
       "      <td>2</td>\n",
       "      <td>119592</td>\n",
       "      <td>1506827090575</td>\n",
       "      <td>4</td>\n",
       "      <td>1</td>\n",
       "      <td>17</td>\n",
       "      <td>1</td>\n",
       "      <td>24</td>\n",
       "      <td>2</td>\n",
       "    </tr>\n",
       "  </tbody>\n",
       "</table>\n",
       "</div>"
      ],
      "text/plain": [
       "  user_id        session_id  session_start session_size click_article_id  \\\n",
       "0       0  1506825423271737  1506825423000            2           157541   \n",
       "1       0  1506825423271737  1506825423000            2            68866   \n",
       "2       1  1506825426267738  1506825426000            2           235840   \n",
       "3       1  1506825426267738  1506825426000            2            96663   \n",
       "4       2  1506825435299739  1506825435000            2           119592   \n",
       "\n",
       "  click_timestamp click_environment click_deviceGroup click_os click_country  \\\n",
       "0   1506826828020                 4                 3       20             1   \n",
       "1   1506826858020                 4                 3       20             1   \n",
       "2   1506827017951                 4                 1       17             1   \n",
       "3   1506827047951                 4                 1       17             1   \n",
       "4   1506827090575                 4                 1       17             1   \n",
       "\n",
       "  click_region click_referrer_type  \n",
       "0           20                   2  \n",
       "1           20                   2  \n",
       "2           16                   2  \n",
       "3           16                   2  \n",
       "4           24                   2  "
      ]
     },
     "execution_count": 11,
     "metadata": {},
     "output_type": "execute_result"
    }
   ],
   "source": [
    "df_clicks.head()"
   ]
  },
  {
   "cell_type": "code",
   "execution_count": 12,
   "id": "466b5ed6-5b47-4c7d-a674-79e07517a075",
   "metadata": {},
   "outputs": [
    {
     "data": {
      "text/html": [
       "<div>\n",
       "<style scoped>\n",
       "    .dataframe tbody tr th:only-of-type {\n",
       "        vertical-align: middle;\n",
       "    }\n",
       "\n",
       "    .dataframe tbody tr th {\n",
       "        vertical-align: top;\n",
       "    }\n",
       "\n",
       "    .dataframe thead th {\n",
       "        text-align: right;\n",
       "    }\n",
       "</style>\n",
       "<table border=\"1\" class=\"dataframe\">\n",
       "  <thead>\n",
       "    <tr style=\"text-align: right;\">\n",
       "      <th></th>\n",
       "      <th>user_id</th>\n",
       "      <th>session_id</th>\n",
       "      <th>session_size</th>\n",
       "      <th>click_article_id</th>\n",
       "    </tr>\n",
       "  </thead>\n",
       "  <tbody>\n",
       "    <tr>\n",
       "      <th>0</th>\n",
       "      <td>0</td>\n",
       "      <td>1506825423271737</td>\n",
       "      <td>2</td>\n",
       "      <td>157541</td>\n",
       "    </tr>\n",
       "    <tr>\n",
       "      <th>1</th>\n",
       "      <td>0</td>\n",
       "      <td>1506825423271737</td>\n",
       "      <td>2</td>\n",
       "      <td>68866</td>\n",
       "    </tr>\n",
       "    <tr>\n",
       "      <th>2</th>\n",
       "      <td>1</td>\n",
       "      <td>1506825426267738</td>\n",
       "      <td>2</td>\n",
       "      <td>235840</td>\n",
       "    </tr>\n",
       "    <tr>\n",
       "      <th>3</th>\n",
       "      <td>1</td>\n",
       "      <td>1506825426267738</td>\n",
       "      <td>2</td>\n",
       "      <td>96663</td>\n",
       "    </tr>\n",
       "    <tr>\n",
       "      <th>4</th>\n",
       "      <td>2</td>\n",
       "      <td>1506825435299739</td>\n",
       "      <td>2</td>\n",
       "      <td>119592</td>\n",
       "    </tr>\n",
       "  </tbody>\n",
       "</table>\n",
       "</div>"
      ],
      "text/plain": [
       "  user_id        session_id session_size click_article_id\n",
       "0       0  1506825423271737            2           157541\n",
       "1       0  1506825423271737            2            68866\n",
       "2       1  1506825426267738            2           235840\n",
       "3       1  1506825426267738            2            96663\n",
       "4       2  1506825435299739            2           119592"
      ]
     },
     "execution_count": 12,
     "metadata": {},
     "output_type": "execute_result"
    }
   ],
   "source": [
    "df_clicks = df_clicks[[\"user_id\", \"session_id\", \"session_size\", \"click_article_id\"]]\n",
    "df_clicks.head()"
   ]
  },
  {
   "cell_type": "code",
   "execution_count": 13,
   "id": "dba6a167-25a6-4e69-9d12-2c5aa7fa417a",
   "metadata": {},
   "outputs": [
    {
     "name": "stdout",
     "output_type": "stream",
     "text": [
      "--- Clicks Sample : Informations Générales ---\n",
      "Dimensions (lignes, colonnes) : (2988181, 4)\n",
      "Colonnes et types de données :\n",
      "user_id             object\n",
      "session_id          object\n",
      "session_size        object\n",
      "click_article_id    object\n",
      "dtype: object\n",
      "\n",
      "Valeurs manquantes par colonne :\n",
      "user_id             0\n",
      "session_id          0\n",
      "session_size        0\n",
      "click_article_id    0\n",
      "dtype: int64\n",
      "\n",
      "Exemple de données :\n",
      "  user_id        session_id session_size click_article_id\n",
      "0       0  1506825423271737            2           157541\n",
      "1       0  1506825423271737            2            68866\n",
      "2       1  1506825426267738            2           235840\n",
      "3       1  1506825426267738            2            96663\n",
      "4       2  1506825435299739            2           119592\n",
      "\n",
      "--- Vue Statistique ---\n",
      "        user_id        session_id  session_size  click_article_id\n",
      "count   2988181           2988181       2988181           2988181\n",
      "unique   322897           1048594            72             46033\n",
      "top        5890  1507563657895091             2            160974\n",
      "freq       1232               124       1260372             37213\n"
     ]
    }
   ],
   "source": [
    "perform_aed(df_clicks, titre=\"Clicks Sample\")"
   ]
  },
  {
   "cell_type": "markdown",
   "id": "d1e03784-ed53-4471-982b-4425a3f43848",
   "metadata": {},
   "source": [
    "## Users"
   ]
  },
  {
   "cell_type": "code",
   "execution_count": 14,
   "id": "19f0b57a-cf1f-4756-b4b9-f5b5583f4fa1",
   "metadata": {},
   "outputs": [
    {
     "data": {
      "text/html": [
       "<div>\n",
       "<style scoped>\n",
       "    .dataframe tbody tr th:only-of-type {\n",
       "        vertical-align: middle;\n",
       "    }\n",
       "\n",
       "    .dataframe tbody tr th {\n",
       "        vertical-align: top;\n",
       "    }\n",
       "\n",
       "    .dataframe thead th {\n",
       "        text-align: right;\n",
       "    }\n",
       "</style>\n",
       "<table border=\"1\" class=\"dataframe\">\n",
       "  <thead>\n",
       "    <tr style=\"text-align: right;\">\n",
       "      <th></th>\n",
       "      <th>click_article_id</th>\n",
       "    </tr>\n",
       "    <tr>\n",
       "      <th>user_id</th>\n",
       "      <th></th>\n",
       "    </tr>\n",
       "  </thead>\n",
       "  <tbody>\n",
       "    <tr>\n",
       "      <th>0</th>\n",
       "      <td>[157541, 68866, 96755, 313996, 160158, 233470,...</td>\n",
       "    </tr>\n",
       "    <tr>\n",
       "      <th>1</th>\n",
       "      <td>[235840, 96663, 59758, 160474, 285719, 156723,...</td>\n",
       "    </tr>\n",
       "    <tr>\n",
       "      <th>2</th>\n",
       "      <td>[119592, 30970, 30760, 209122]</td>\n",
       "    </tr>\n",
       "    <tr>\n",
       "      <th>3</th>\n",
       "      <td>[236065, 236294, 234686, 233769, 235665, 23513...</td>\n",
       "    </tr>\n",
       "    <tr>\n",
       "      <th>4</th>\n",
       "      <td>[48915, 44488, 195887, 195084, 63307, 336499, ...</td>\n",
       "    </tr>\n",
       "  </tbody>\n",
       "</table>\n",
       "</div>"
      ],
      "text/plain": [
       "                                          click_article_id\n",
       "user_id                                                   \n",
       "0        [157541, 68866, 96755, 313996, 160158, 233470,...\n",
       "1        [235840, 96663, 59758, 160474, 285719, 156723,...\n",
       "2                           [119592, 30970, 30760, 209122]\n",
       "3        [236065, 236294, 234686, 233769, 235665, 23513...\n",
       "4        [48915, 44488, 195887, 195084, 63307, 336499, ..."
      ]
     },
     "execution_count": 14,
     "metadata": {},
     "output_type": "execute_result"
    }
   ],
   "source": [
    "df_users = df_clicks.groupby(\"user_id\").agg({\"click_article_id\":lambda x: list(x)})\n",
    "df_users.head()"
   ]
  },
  {
   "cell_type": "markdown",
   "id": "15571bb9-f90d-45f6-b28f-e3e9d46a67a9",
   "metadata": {},
   "source": [
    "## Embeddings"
   ]
  },
  {
   "cell_type": "code",
   "execution_count": 15,
   "id": "0847741c-806a-4feb-8a89-85fcabedccd5",
   "metadata": {},
   "outputs": [
    {
     "data": {
      "text/plain": [
       "array([[-0.16118301, -0.95723313, -0.13794445, ..., -0.231686  ,\n",
       "         0.5974159 ,  0.40962312],\n",
       "       [-0.52321565, -0.974058  ,  0.73860806, ...,  0.18282819,\n",
       "         0.39708954, -0.83436364],\n",
       "       [-0.61961854, -0.9729604 , -0.20736018, ..., -0.44758022,\n",
       "         0.8059317 , -0.28528407],\n",
       "       ...,\n",
       "       [-0.25139043, -0.9762427 ,  0.58609664, ..., -0.14372464,\n",
       "         0.06809307, -0.7050104 ],\n",
       "       [ 0.22434181, -0.92328775, -0.38174152, ...,  0.6871319 ,\n",
       "        -0.5315117 ,  0.01072566],\n",
       "       [-0.25713393, -0.9946313 ,  0.9837918 , ...,  0.98387307,\n",
       "        -0.8381829 , -0.1792827 ]], dtype=float32)"
      ]
     },
     "execution_count": 15,
     "metadata": {},
     "output_type": "execute_result"
    }
   ],
   "source": [
    "embeddings_array"
   ]
  },
  {
   "cell_type": "code",
   "execution_count": 16,
   "id": "f08f2fec-177c-44c1-88bc-9c2621db445d",
   "metadata": {},
   "outputs": [],
   "source": [
    "# Transformation en DataFrame\n",
    "num_columns = embeddings_array.shape[1]\n",
    "columns = generate_column_names(num_columns)\n",
    "df_embeddings = pd.DataFrame(embeddings_array, columns=columns)"
   ]
  },
  {
   "cell_type": "code",
   "execution_count": 17,
   "id": "56e714da-f089-4432-a8be-d53669866223",
   "metadata": {},
   "outputs": [
    {
     "data": {
      "text/html": [
       "<div>\n",
       "<style scoped>\n",
       "    .dataframe tbody tr th:only-of-type {\n",
       "        vertical-align: middle;\n",
       "    }\n",
       "\n",
       "    .dataframe tbody tr th {\n",
       "        vertical-align: top;\n",
       "    }\n",
       "\n",
       "    .dataframe thead th {\n",
       "        text-align: right;\n",
       "    }\n",
       "</style>\n",
       "<table border=\"1\" class=\"dataframe\">\n",
       "  <thead>\n",
       "    <tr style=\"text-align: right;\">\n",
       "      <th></th>\n",
       "      <th>embedding1</th>\n",
       "      <th>embedding2</th>\n",
       "      <th>embedding3</th>\n",
       "      <th>embedding4</th>\n",
       "      <th>embedding5</th>\n",
       "      <th>embedding6</th>\n",
       "      <th>embedding7</th>\n",
       "      <th>embedding8</th>\n",
       "      <th>embedding9</th>\n",
       "      <th>embedding10</th>\n",
       "      <th>...</th>\n",
       "      <th>embedding241</th>\n",
       "      <th>embedding242</th>\n",
       "      <th>embedding243</th>\n",
       "      <th>embedding244</th>\n",
       "      <th>embedding245</th>\n",
       "      <th>embedding246</th>\n",
       "      <th>embedding247</th>\n",
       "      <th>embedding248</th>\n",
       "      <th>embedding249</th>\n",
       "      <th>embedding250</th>\n",
       "    </tr>\n",
       "  </thead>\n",
       "  <tbody>\n",
       "    <tr>\n",
       "      <th>0</th>\n",
       "      <td>-0.161183</td>\n",
       "      <td>-0.957233</td>\n",
       "      <td>-0.137944</td>\n",
       "      <td>0.050855</td>\n",
       "      <td>0.830055</td>\n",
       "      <td>0.901365</td>\n",
       "      <td>-0.335148</td>\n",
       "      <td>-0.559561</td>\n",
       "      <td>-0.500603</td>\n",
       "      <td>0.165183</td>\n",
       "      <td>...</td>\n",
       "      <td>0.321248</td>\n",
       "      <td>0.313999</td>\n",
       "      <td>0.636412</td>\n",
       "      <td>0.169179</td>\n",
       "      <td>0.540524</td>\n",
       "      <td>-0.813182</td>\n",
       "      <td>0.286870</td>\n",
       "      <td>-0.231686</td>\n",
       "      <td>0.597416</td>\n",
       "      <td>0.409623</td>\n",
       "    </tr>\n",
       "    <tr>\n",
       "      <th>1</th>\n",
       "      <td>-0.523216</td>\n",
       "      <td>-0.974058</td>\n",
       "      <td>0.738608</td>\n",
       "      <td>0.155234</td>\n",
       "      <td>0.626294</td>\n",
       "      <td>0.485297</td>\n",
       "      <td>-0.715657</td>\n",
       "      <td>-0.897996</td>\n",
       "      <td>-0.359747</td>\n",
       "      <td>0.398246</td>\n",
       "      <td>...</td>\n",
       "      <td>-0.487843</td>\n",
       "      <td>0.823124</td>\n",
       "      <td>0.412688</td>\n",
       "      <td>-0.338654</td>\n",
       "      <td>0.320787</td>\n",
       "      <td>0.588643</td>\n",
       "      <td>-0.594137</td>\n",
       "      <td>0.182828</td>\n",
       "      <td>0.397090</td>\n",
       "      <td>-0.834364</td>\n",
       "    </tr>\n",
       "    <tr>\n",
       "      <th>2</th>\n",
       "      <td>-0.619619</td>\n",
       "      <td>-0.972960</td>\n",
       "      <td>-0.207360</td>\n",
       "      <td>-0.128861</td>\n",
       "      <td>0.044748</td>\n",
       "      <td>-0.387535</td>\n",
       "      <td>-0.730477</td>\n",
       "      <td>-0.066126</td>\n",
       "      <td>-0.754899</td>\n",
       "      <td>-0.242004</td>\n",
       "      <td>...</td>\n",
       "      <td>0.454756</td>\n",
       "      <td>0.473184</td>\n",
       "      <td>0.377866</td>\n",
       "      <td>-0.863887</td>\n",
       "      <td>-0.383365</td>\n",
       "      <td>0.137721</td>\n",
       "      <td>-0.810877</td>\n",
       "      <td>-0.447580</td>\n",
       "      <td>0.805932</td>\n",
       "      <td>-0.285284</td>\n",
       "    </tr>\n",
       "    <tr>\n",
       "      <th>3</th>\n",
       "      <td>-0.740843</td>\n",
       "      <td>-0.975749</td>\n",
       "      <td>0.391698</td>\n",
       "      <td>0.641738</td>\n",
       "      <td>-0.268645</td>\n",
       "      <td>0.191745</td>\n",
       "      <td>-0.825593</td>\n",
       "      <td>-0.710591</td>\n",
       "      <td>-0.040099</td>\n",
       "      <td>-0.110514</td>\n",
       "      <td>...</td>\n",
       "      <td>0.271535</td>\n",
       "      <td>0.036040</td>\n",
       "      <td>0.480029</td>\n",
       "      <td>-0.763173</td>\n",
       "      <td>0.022627</td>\n",
       "      <td>0.565165</td>\n",
       "      <td>-0.910286</td>\n",
       "      <td>-0.537838</td>\n",
       "      <td>0.243541</td>\n",
       "      <td>-0.885329</td>\n",
       "    </tr>\n",
       "    <tr>\n",
       "      <th>4</th>\n",
       "      <td>-0.279052</td>\n",
       "      <td>-0.972315</td>\n",
       "      <td>0.685374</td>\n",
       "      <td>0.113056</td>\n",
       "      <td>0.238315</td>\n",
       "      <td>0.271913</td>\n",
       "      <td>-0.568816</td>\n",
       "      <td>0.341194</td>\n",
       "      <td>-0.600554</td>\n",
       "      <td>-0.125644</td>\n",
       "      <td>...</td>\n",
       "      <td>0.238286</td>\n",
       "      <td>0.809268</td>\n",
       "      <td>0.427521</td>\n",
       "      <td>-0.615932</td>\n",
       "      <td>-0.503697</td>\n",
       "      <td>0.614450</td>\n",
       "      <td>-0.917760</td>\n",
       "      <td>-0.424061</td>\n",
       "      <td>0.185484</td>\n",
       "      <td>-0.580292</td>\n",
       "    </tr>\n",
       "  </tbody>\n",
       "</table>\n",
       "<p>5 rows × 250 columns</p>\n",
       "</div>"
      ],
      "text/plain": [
       "   embedding1  embedding2  embedding3  embedding4  embedding5  embedding6  \\\n",
       "0   -0.161183   -0.957233   -0.137944    0.050855    0.830055    0.901365   \n",
       "1   -0.523216   -0.974058    0.738608    0.155234    0.626294    0.485297   \n",
       "2   -0.619619   -0.972960   -0.207360   -0.128861    0.044748   -0.387535   \n",
       "3   -0.740843   -0.975749    0.391698    0.641738   -0.268645    0.191745   \n",
       "4   -0.279052   -0.972315    0.685374    0.113056    0.238315    0.271913   \n",
       "\n",
       "   embedding7  embedding8  embedding9  embedding10  ...  embedding241  \\\n",
       "0   -0.335148   -0.559561   -0.500603     0.165183  ...      0.321248   \n",
       "1   -0.715657   -0.897996   -0.359747     0.398246  ...     -0.487843   \n",
       "2   -0.730477   -0.066126   -0.754899    -0.242004  ...      0.454756   \n",
       "3   -0.825593   -0.710591   -0.040099    -0.110514  ...      0.271535   \n",
       "4   -0.568816    0.341194   -0.600554    -0.125644  ...      0.238286   \n",
       "\n",
       "   embedding242  embedding243  embedding244  embedding245  embedding246  \\\n",
       "0      0.313999      0.636412      0.169179      0.540524     -0.813182   \n",
       "1      0.823124      0.412688     -0.338654      0.320787      0.588643   \n",
       "2      0.473184      0.377866     -0.863887     -0.383365      0.137721   \n",
       "3      0.036040      0.480029     -0.763173      0.022627      0.565165   \n",
       "4      0.809268      0.427521     -0.615932     -0.503697      0.614450   \n",
       "\n",
       "   embedding247  embedding248  embedding249  embedding250  \n",
       "0      0.286870     -0.231686      0.597416      0.409623  \n",
       "1     -0.594137      0.182828      0.397090     -0.834364  \n",
       "2     -0.810877     -0.447580      0.805932     -0.285284  \n",
       "3     -0.910286     -0.537838      0.243541     -0.885329  \n",
       "4     -0.917760     -0.424061      0.185484     -0.580292  \n",
       "\n",
       "[5 rows x 250 columns]"
      ]
     },
     "execution_count": 17,
     "metadata": {},
     "output_type": "execute_result"
    }
   ],
   "source": [
    "# Afficher le DataFrame\n",
    "df_embeddings.head()"
   ]
  },
  {
   "cell_type": "markdown",
   "id": "528f737d-689d-45dd-986f-8e9732427b41",
   "metadata": {},
   "source": [
    "Il y a 250 embeddings. Actuellement le fichier fait 350Mo, il faut donc réduire sa taille en faisant une ACP, pour pouvoir l'utiliser par la suite sur le Cloud."
   ]
  },
  {
   "cell_type": "markdown",
   "id": "5ece1723-5a89-415e-9190-653f636a4965",
   "metadata": {},
   "source": [
    "### ACP"
   ]
  },
  {
   "cell_type": "code",
   "execution_count": 18,
   "id": "cb703230-c083-497b-9b05-2373b9550a0a",
   "metadata": {},
   "outputs": [],
   "source": [
    "# Réalisation de l'ACP pour conserver environ 97% de la variance\n",
    "pca = PCA(n_components=0.97)\n",
    "principal_components = pca.fit_transform(df_embeddings)"
   ]
  },
  {
   "cell_type": "code",
   "execution_count": 19,
   "id": "7a78e6ee-9cfb-4dcd-9073-6b002f8250c3",
   "metadata": {},
   "outputs": [],
   "source": [
    "# Transformation en DataFrame\n",
    "df_principal_components = pd.DataFrame(principal_components, \n",
    "                                       columns=[f\"PC{i+1}\" for i in range(principal_components.shape[1])])"
   ]
  },
  {
   "cell_type": "code",
   "execution_count": 20,
   "id": "7da51ad7-36c0-4f60-a743-8899671599e5",
   "metadata": {},
   "outputs": [
    {
     "data": {
      "text/html": [
       "<div>\n",
       "<style scoped>\n",
       "    .dataframe tbody tr th:only-of-type {\n",
       "        vertical-align: middle;\n",
       "    }\n",
       "\n",
       "    .dataframe tbody tr th {\n",
       "        vertical-align: top;\n",
       "    }\n",
       "\n",
       "    .dataframe thead th {\n",
       "        text-align: right;\n",
       "    }\n",
       "</style>\n",
       "<table border=\"1\" class=\"dataframe\">\n",
       "  <thead>\n",
       "    <tr style=\"text-align: right;\">\n",
       "      <th></th>\n",
       "      <th>PC1</th>\n",
       "      <th>PC2</th>\n",
       "      <th>PC3</th>\n",
       "      <th>PC4</th>\n",
       "      <th>PC5</th>\n",
       "      <th>PC6</th>\n",
       "      <th>PC7</th>\n",
       "      <th>PC8</th>\n",
       "      <th>PC9</th>\n",
       "      <th>PC10</th>\n",
       "      <th>...</th>\n",
       "      <th>PC54</th>\n",
       "      <th>PC55</th>\n",
       "      <th>PC56</th>\n",
       "      <th>PC57</th>\n",
       "      <th>PC58</th>\n",
       "      <th>PC59</th>\n",
       "      <th>PC60</th>\n",
       "      <th>PC61</th>\n",
       "      <th>PC62</th>\n",
       "      <th>PC63</th>\n",
       "    </tr>\n",
       "  </thead>\n",
       "  <tbody>\n",
       "    <tr>\n",
       "      <th>0</th>\n",
       "      <td>-2.176782</td>\n",
       "      <td>1.316913</td>\n",
       "      <td>-1.029048</td>\n",
       "      <td>0.901907</td>\n",
       "      <td>-1.809542</td>\n",
       "      <td>-2.064713</td>\n",
       "      <td>-1.221915</td>\n",
       "      <td>-0.024441</td>\n",
       "      <td>0.927260</td>\n",
       "      <td>-0.669806</td>\n",
       "      <td>...</td>\n",
       "      <td>0.332370</td>\n",
       "      <td>0.610106</td>\n",
       "      <td>-0.442540</td>\n",
       "      <td>-0.155501</td>\n",
       "      <td>-0.179364</td>\n",
       "      <td>0.393665</td>\n",
       "      <td>-0.222121</td>\n",
       "      <td>0.230562</td>\n",
       "      <td>-0.100259</td>\n",
       "      <td>0.048755</td>\n",
       "    </tr>\n",
       "    <tr>\n",
       "      <th>1</th>\n",
       "      <td>-1.735173</td>\n",
       "      <td>-0.489893</td>\n",
       "      <td>3.268562</td>\n",
       "      <td>0.087855</td>\n",
       "      <td>1.473059</td>\n",
       "      <td>-0.932711</td>\n",
       "      <td>1.841631</td>\n",
       "      <td>-0.881798</td>\n",
       "      <td>-0.207202</td>\n",
       "      <td>0.816809</td>\n",
       "      <td>...</td>\n",
       "      <td>-0.016993</td>\n",
       "      <td>-0.177867</td>\n",
       "      <td>-0.111825</td>\n",
       "      <td>-0.038613</td>\n",
       "      <td>0.167533</td>\n",
       "      <td>0.092189</td>\n",
       "      <td>-0.245874</td>\n",
       "      <td>-0.102162</td>\n",
       "      <td>0.083865</td>\n",
       "      <td>-0.035472</td>\n",
       "    </tr>\n",
       "    <tr>\n",
       "      <th>2</th>\n",
       "      <td>-0.912688</td>\n",
       "      <td>2.089339</td>\n",
       "      <td>1.865868</td>\n",
       "      <td>-1.202519</td>\n",
       "      <td>2.530601</td>\n",
       "      <td>-0.521970</td>\n",
       "      <td>0.224352</td>\n",
       "      <td>1.479936</td>\n",
       "      <td>-0.191900</td>\n",
       "      <td>1.356800</td>\n",
       "      <td>...</td>\n",
       "      <td>0.069820</td>\n",
       "      <td>-0.104514</td>\n",
       "      <td>0.204883</td>\n",
       "      <td>0.050820</td>\n",
       "      <td>-0.370875</td>\n",
       "      <td>0.186898</td>\n",
       "      <td>-0.019859</td>\n",
       "      <td>0.104982</td>\n",
       "      <td>0.102671</td>\n",
       "      <td>0.192432</td>\n",
       "    </tr>\n",
       "    <tr>\n",
       "      <th>3</th>\n",
       "      <td>1.096567</td>\n",
       "      <td>-0.212955</td>\n",
       "      <td>4.183517</td>\n",
       "      <td>-0.649575</td>\n",
       "      <td>-0.130867</td>\n",
       "      <td>1.126555</td>\n",
       "      <td>1.063997</td>\n",
       "      <td>-0.662875</td>\n",
       "      <td>0.348142</td>\n",
       "      <td>1.463899</td>\n",
       "      <td>...</td>\n",
       "      <td>0.066604</td>\n",
       "      <td>-0.483652</td>\n",
       "      <td>-0.314210</td>\n",
       "      <td>-0.159641</td>\n",
       "      <td>-0.129978</td>\n",
       "      <td>0.060362</td>\n",
       "      <td>0.244906</td>\n",
       "      <td>0.180050</td>\n",
       "      <td>-0.028684</td>\n",
       "      <td>-0.371259</td>\n",
       "    </tr>\n",
       "    <tr>\n",
       "      <th>4</th>\n",
       "      <td>0.193785</td>\n",
       "      <td>0.263949</td>\n",
       "      <td>1.896582</td>\n",
       "      <td>-1.834344</td>\n",
       "      <td>1.270378</td>\n",
       "      <td>-1.723296</td>\n",
       "      <td>0.329006</td>\n",
       "      <td>0.283794</td>\n",
       "      <td>-0.659808</td>\n",
       "      <td>1.223740</td>\n",
       "      <td>...</td>\n",
       "      <td>0.015988</td>\n",
       "      <td>-0.181448</td>\n",
       "      <td>0.009166</td>\n",
       "      <td>-0.165059</td>\n",
       "      <td>-0.091432</td>\n",
       "      <td>-0.059172</td>\n",
       "      <td>-0.186990</td>\n",
       "      <td>0.448666</td>\n",
       "      <td>-0.348881</td>\n",
       "      <td>0.222746</td>\n",
       "    </tr>\n",
       "  </tbody>\n",
       "</table>\n",
       "<p>5 rows × 63 columns</p>\n",
       "</div>"
      ],
      "text/plain": [
       "        PC1       PC2       PC3       PC4       PC5       PC6       PC7  \\\n",
       "0 -2.176782  1.316913 -1.029048  0.901907 -1.809542 -2.064713 -1.221915   \n",
       "1 -1.735173 -0.489893  3.268562  0.087855  1.473059 -0.932711  1.841631   \n",
       "2 -0.912688  2.089339  1.865868 -1.202519  2.530601 -0.521970  0.224352   \n",
       "3  1.096567 -0.212955  4.183517 -0.649575 -0.130867  1.126555  1.063997   \n",
       "4  0.193785  0.263949  1.896582 -1.834344  1.270378 -1.723296  0.329006   \n",
       "\n",
       "        PC8       PC9      PC10  ...      PC54      PC55      PC56      PC57  \\\n",
       "0 -0.024441  0.927260 -0.669806  ...  0.332370  0.610106 -0.442540 -0.155501   \n",
       "1 -0.881798 -0.207202  0.816809  ... -0.016993 -0.177867 -0.111825 -0.038613   \n",
       "2  1.479936 -0.191900  1.356800  ...  0.069820 -0.104514  0.204883  0.050820   \n",
       "3 -0.662875  0.348142  1.463899  ...  0.066604 -0.483652 -0.314210 -0.159641   \n",
       "4  0.283794 -0.659808  1.223740  ...  0.015988 -0.181448  0.009166 -0.165059   \n",
       "\n",
       "       PC58      PC59      PC60      PC61      PC62      PC63  \n",
       "0 -0.179364  0.393665 -0.222121  0.230562 -0.100259  0.048755  \n",
       "1  0.167533  0.092189 -0.245874 -0.102162  0.083865 -0.035472  \n",
       "2 -0.370875  0.186898 -0.019859  0.104982  0.102671  0.192432  \n",
       "3 -0.129978  0.060362  0.244906  0.180050 -0.028684 -0.371259  \n",
       "4 -0.091432 -0.059172 -0.186990  0.448666 -0.348881  0.222746  \n",
       "\n",
       "[5 rows x 63 columns]"
      ]
     },
     "execution_count": 20,
     "metadata": {},
     "output_type": "execute_result"
    }
   ],
   "source": [
    "df_principal_components.head()"
   ]
  },
  {
   "cell_type": "code",
   "execution_count": 21,
   "id": "b80342d7-73da-4739-a3c5-8dac67b622c2",
   "metadata": {},
   "outputs": [
    {
     "data": {
      "text/plain": [
       "0.9709584579104558"
      ]
     },
     "execution_count": 21,
     "metadata": {},
     "output_type": "execute_result"
    }
   ],
   "source": [
    "sum(pca.explained_variance_ratio_)"
   ]
  },
  {
   "cell_type": "markdown",
   "id": "81c70a9b-139f-41a2-b127-11ec7c9a6def",
   "metadata": {},
   "source": [
    "On se retrouve avec maintenant 63 embeddings qui couvre 97% de la variance de nos données d'origine."
   ]
  },
  {
   "cell_type": "markdown",
   "id": "2b7a5fb2-b754-4d23-b160-62ad6edcbe19",
   "metadata": {},
   "source": [
    "# Sauvegarde des fichiers"
   ]
  },
  {
   "cell_type": "code",
   "execution_count": 22,
   "id": "fa8fdec1-66fc-409f-b959-cf1866137215",
   "metadata": {},
   "outputs": [],
   "source": [
    "filepath = \"azure_datas\"\n",
    "\n",
    "list_dir = os.listdir('datas/')\n",
    "\n",
    "if filepath not in list_dir:\n",
    "    os.mkdir('datas/' + filepath)\n",
    "\n",
    "df_principal_components.to_pickle('datas/' + filepath + '/articles_embeddings.pickle')\n",
    "df_clicks.to_pickle('datas/' + filepath + '/clicks.pickle')\n",
    "df_users.to_pickle('datas/' + filepath + '/users.pickle')\n",
    "df_articles.to_pickle('datas/' + filepath + '/articles.pickle')"
   ]
  },
  {
   "cell_type": "code",
   "execution_count": 23,
   "id": "91eaa386-f516-474b-920e-ab90928b5b77",
   "metadata": {},
   "outputs": [
    {
     "name": "stdout",
     "output_type": "stream",
     "text": [
      "Les user_id uniques ont été sauvegardés dans le fichier datas/azure_datas/user_id.txt.\n"
     ]
    }
   ],
   "source": [
    "# Récupérer les user_id uniques\n",
    "unique_user_ids = df_clicks['user_id'].drop_duplicates().tolist()\n",
    "\n",
    "\n",
    "# Sauvegarder dans un fichier texte\n",
    "output_file = \"datas/\"+ filepath+ \"/user_id.txt\"\n",
    "with open(output_file, \"w\") as file:\n",
    "    file.write(f\"{unique_user_ids}\")\n",
    "\n",
    "print(f\"Les user_id uniques ont été sauvegardés dans le fichier {output_file}.\")"
   ]
  },
  {
   "cell_type": "markdown",
   "id": "6127429f-ecda-46da-bfd1-5ee039305c6c",
   "metadata": {},
   "source": [
    "Le fichier articles_embeddings.pickle fait maintenant 89Mo grâce à l'ACP."
   ]
  },
  {
   "cell_type": "markdown",
   "id": "1b6f8c87-526d-4042-b0d9-17a9ae446c1d",
   "metadata": {},
   "source": [
    "# Modèles de recommandations de contenu"
   ]
  },
  {
   "cell_type": "markdown",
   "id": "e32e8827-3334-4219-b8b6-34c48cb5f895",
   "metadata": {},
   "source": [
    "## Modèle type Content-Based Filtering"
   ]
  },
  {
   "cell_type": "markdown",
   "id": "fd48b534-5292-44b1-b750-f03cc9dae130",
   "metadata": {},
   "source": [
    "### Fonctions"
   ]
  },
  {
   "cell_type": "code",
   "execution_count": 24,
   "id": "b82c2cbd-e946-427c-9578-a4734d92e808",
   "metadata": {},
   "outputs": [],
   "source": [
    "# Fonction de filtrage basé sur le contenu\n",
    "def content_based_filtering(embeddings, clicks, user_id, n=5):\n",
    "    articles_read = clicks[clicks['user_id'] == user_id]['click_article_id'].tolist()\n",
    "\n",
    "    if not articles_read:\n",
    "        print(f\"L'utilisateur {user_id} n'a lu aucun article.\")\n",
    "        return []\n",
    "\n",
    "    articles_read_embedding = embeddings.loc[articles_read]\n",
    "    articles = embeddings.drop(index=articles_read)\n",
    "\n",
    "    matrix = cosine_similarity(articles_read_embedding, articles)\n",
    "\n",
    "    rec = []\n",
    "\n",
    "    for _ in range(n):\n",
    "        coord_x, coord_y = divmod(np.argmax(matrix), matrix.shape[1])\n",
    "        rec.append(int(embeddings.index[coord_y]))\n",
    "        matrix[coord_x][coord_y] = 0\n",
    "\n",
    "    rec.sort()\n",
    "\n",
    "    return rec"
   ]
  },
  {
   "cell_type": "markdown",
   "id": "c4601d11-cc5a-4549-8152-6f55aaf59b66",
   "metadata": {},
   "source": [
    "### Tests du modèle"
   ]
  },
  {
   "cell_type": "code",
   "execution_count": 25,
   "id": "53770ece-c485-4786-a822-f6c4c697cefa",
   "metadata": {},
   "outputs": [],
   "source": [
    "user_id_example = 1"
   ]
  },
  {
   "cell_type": "code",
   "execution_count": 26,
   "id": "b0acb919-edee-4e78-8d64-9270f551240f",
   "metadata": {},
   "outputs": [
    {
     "name": "stdout",
     "output_type": "stream",
     "text": [
      "Recommandations finales pour l'utilisateur 1 : [228292, 228937, 233822, 235071, 345912]\n"
     ]
    }
   ],
   "source": [
    "recommendations = content_based_filtering(df_embeddings, df_clicks, user_id_example, n=5)\n",
    "print(f\"Recommandations finales pour l'utilisateur {user_id_example} : {recommendations}\")"
   ]
  },
  {
   "cell_type": "code",
   "execution_count": 27,
   "id": "ee32b88a-f609-451e-afb7-d7679dcd8823",
   "metadata": {},
   "outputs": [
    {
     "name": "stdout",
     "output_type": "stream",
     "text": [
      "Recommandations finales pour l'utilisateur 1 : [228292, 228937, 233822, 235071, 345912]\n"
     ]
    }
   ],
   "source": [
    "recommendations = content_based_filtering(df_principal_components, df_clicks, user_id_example, n=5)\n",
    "print(f\"Recommandations finales pour l'utilisateur {user_id_example} : {recommendations}\")"
   ]
  },
  {
   "cell_type": "code",
   "execution_count": 28,
   "id": "7da937ae-8375-44bd-97e4-e3c8de014a4d",
   "metadata": {},
   "outputs": [],
   "source": [
    "user_id_example = 156"
   ]
  },
  {
   "cell_type": "code",
   "execution_count": 29,
   "id": "298e9c17-9971-45eb-b3e1-377574a1eac7",
   "metadata": {},
   "outputs": [
    {
     "name": "stdout",
     "output_type": "stream",
     "text": [
      "Recommandations finales pour l'utilisateur 156 : [240738, 242071, 242194, 243049, 268523]\n"
     ]
    }
   ],
   "source": [
    "recommendations = content_based_filtering(df_embeddings, df_clicks, user_id_example, n=5)\n",
    "print(f\"Recommandations finales pour l'utilisateur {user_id_example} : {recommendations}\")"
   ]
  },
  {
   "cell_type": "code",
   "execution_count": 30,
   "id": "2e622b8a-a9a2-4563-8639-4abae94f7178",
   "metadata": {},
   "outputs": [
    {
     "name": "stdout",
     "output_type": "stream",
     "text": [
      "Recommandations finales pour l'utilisateur 156 : [240738, 242071, 242194, 243049, 268523]\n"
     ]
    }
   ],
   "source": [
    "recommendations = content_based_filtering(df_principal_components, df_clicks, user_id_example, n=5)\n",
    "print(f\"Recommandations finales pour l'utilisateur {user_id_example} : {recommendations}\")"
   ]
  },
  {
   "cell_type": "markdown",
   "id": "9a18924f-7ced-4b47-9605-9c151efc42fc",
   "metadata": {},
   "source": [
    "Le modèle repose sur le calcul de la similarité cosinus entre les articles déjà lus par l'utiilsateur et les autres articles disponibles. Ces articles sont représentés sous formes de vecteurs dans un espace vectoriel construit à partir de leurs caractéristiques dérivées de la matrice d'embeddings.\n",
    "\n",
    "La recommandation retourne les n articles les plus similaires, où n=5 dans notre cas."
   ]
  },
  {
   "cell_type": "markdown",
   "id": "0fec245b-cdac-456b-ab97-68beeb78d94d",
   "metadata": {},
   "source": [
    "L'ajustement à 97% de la variance pour l'ACP nous permet d'avoir les mêmes résultats avec ou sans l'ACP."
   ]
  },
  {
   "cell_type": "markdown",
   "id": "c75280cf-b0fd-4a28-bd5e-62f92315c993",
   "metadata": {},
   "source": [
    "## Modèle type Collaborative Filtering"
   ]
  },
  {
   "cell_type": "markdown",
   "id": "1581cda9-c9bb-461a-ad24-5c45f4a8c384",
   "metadata": {},
   "source": [
    "### Fonctions"
   ]
  },
  {
   "cell_type": "code",
   "execution_count": 31,
   "id": "ec373a82-dbae-4387-a982-641fceed3433",
   "metadata": {},
   "outputs": [],
   "source": [
    "# Fonction de calcul des ratings basés sur les clics\n",
    "def calcul_rating_by_clicks(clicks):\n",
    "    count_user_article_size = clicks.groupby(['user_id', 'click_article_id']).agg(user_article_size=(\"session_size\", \"sum\"))\n",
    "    count_user_total_size = clicks.groupby(['user_id']).agg(user_total_size=(\"session_size\", \"sum\"))\n",
    "\n",
    "    ratings = count_user_article_size.join(count_user_total_size, on=\"user_id\")\n",
    "    ratings['rating'] = ratings['user_article_size'] / ratings['user_total_size']\n",
    "    ratings['rating'] = ratings['rating'].astype(float)\n",
    "\n",
    "    ratings = ratings.reset_index().drop(['user_article_size', 'user_total_size'], axis=1)\n",
    "    ratings = ratings.rename(columns={'click_article_id': 'article_id'})\n",
    "\n",
    "    return ratings"
   ]
  },
  {
   "cell_type": "code",
   "execution_count": 32,
   "id": "5e3acca4-f7ef-4f88-ac3b-43d62413446b",
   "metadata": {},
   "outputs": [],
   "source": [
    "# Fonction de recommandation collaborative\n",
    "def collaborative_filtering_recommendation(embeddings, clicks, user_id, n=5):\n",
    "    available_articles = list(embeddings.index)\n",
    "    articles_read = clicks[clicks['user_id'] == user_id]['click_article_id'].tolist()\n",
    "\n",
    "    for article in articles_read:\n",
    "        if article in available_articles:\n",
    "            available_articles.remove(article)\n",
    "\n",
    "    predictions = {}\n",
    "\n",
    "    for article_id in available_articles:\n",
    "        pred = model_SVD.predict(user_id, article_id)\n",
    "        predictions[article_id] = pred.est\n",
    "\n",
    "    recommended_articles = nlargest(n, predictions, key=predictions.get)\n",
    "\n",
    "    recommended_articles.sort()\n",
    "    \n",
    "    return recommended_articles"
   ]
  },
  {
   "cell_type": "markdown",
   "id": "5fc3ae4b-66e1-411b-8e9c-626b22ee8076",
   "metadata": {},
   "source": [
    "### Recherche des meilleurs hyperparamètres"
   ]
  },
  {
   "cell_type": "code",
   "execution_count": 33,
   "id": "5afec462-1cac-4a48-b504-fb1123476170",
   "metadata": {},
   "outputs": [
    {
     "data": {
      "text/html": [
       "<div>\n",
       "<style scoped>\n",
       "    .dataframe tbody tr th:only-of-type {\n",
       "        vertical-align: middle;\n",
       "    }\n",
       "\n",
       "    .dataframe tbody tr th {\n",
       "        vertical-align: top;\n",
       "    }\n",
       "\n",
       "    .dataframe thead th {\n",
       "        text-align: right;\n",
       "    }\n",
       "</style>\n",
       "<table border=\"1\" class=\"dataframe\">\n",
       "  <thead>\n",
       "    <tr style=\"text-align: right;\">\n",
       "      <th></th>\n",
       "      <th>user_id</th>\n",
       "      <th>article_id</th>\n",
       "      <th>rating</th>\n",
       "    </tr>\n",
       "  </thead>\n",
       "  <tbody>\n",
       "    <tr>\n",
       "      <th>0</th>\n",
       "      <td>0</td>\n",
       "      <td>68866</td>\n",
       "      <td>0.125</td>\n",
       "    </tr>\n",
       "    <tr>\n",
       "      <th>1</th>\n",
       "      <td>0</td>\n",
       "      <td>87205</td>\n",
       "      <td>0.125</td>\n",
       "    </tr>\n",
       "    <tr>\n",
       "      <th>2</th>\n",
       "      <td>0</td>\n",
       "      <td>87224</td>\n",
       "      <td>0.125</td>\n",
       "    </tr>\n",
       "    <tr>\n",
       "      <th>3</th>\n",
       "      <td>0</td>\n",
       "      <td>96755</td>\n",
       "      <td>0.125</td>\n",
       "    </tr>\n",
       "    <tr>\n",
       "      <th>4</th>\n",
       "      <td>0</td>\n",
       "      <td>157541</td>\n",
       "      <td>0.125</td>\n",
       "    </tr>\n",
       "  </tbody>\n",
       "</table>\n",
       "</div>"
      ],
      "text/plain": [
       "   user_id  article_id  rating\n",
       "0        0       68866   0.125\n",
       "1        0       87205   0.125\n",
       "2        0       87224   0.125\n",
       "3        0       96755   0.125\n",
       "4        0      157541   0.125"
      ]
     },
     "execution_count": 33,
     "metadata": {},
     "output_type": "execute_result"
    }
   ],
   "source": [
    "df_ratings = calcul_rating_by_clicks(df_clicks)\n",
    "df_ratings.head()"
   ]
  },
  {
   "cell_type": "code",
   "execution_count": 34,
   "id": "96a1fb6c-04fe-4243-a1e6-a43c2863175d",
   "metadata": {},
   "outputs": [],
   "source": [
    "df_ratings.to_pickle('datas/' + filepath + '/ratings.pickle')"
   ]
  },
  {
   "cell_type": "code",
   "execution_count": 35,
   "id": "28a445ed-4e6c-4f5d-b0ef-8c87330e772b",
   "metadata": {},
   "outputs": [
    {
     "name": "stdout",
     "output_type": "stream",
     "text": [
      "--- Ratings : Informations Générales ---\n",
      "Dimensions (lignes, colonnes) : (2950710, 3)\n",
      "Colonnes et types de données :\n",
      "user_id         int64\n",
      "article_id      int64\n",
      "rating        float64\n",
      "dtype: object\n",
      "\n",
      "Valeurs manquantes par colonne :\n",
      "user_id       0\n",
      "article_id    0\n",
      "rating        0\n",
      "dtype: int64\n",
      "\n",
      "Exemple de données :\n",
      "   user_id  article_id  rating\n",
      "0        0       68866   0.125\n",
      "1        0       87205   0.125\n",
      "2        0       87224   0.125\n",
      "3        0       96755   0.125\n",
      "4        0      157541   0.125\n",
      "\n",
      "--- Vue Statistique ---\n",
      "            user_id    article_id        rating\n",
      "count  2.950710e+06  2.950710e+06  2.950710e+06\n",
      "mean   1.083921e+05  1.950297e+05  1.094303e-01\n",
      "std    8.372895e+04  9.083343e+04  1.305946e-01\n",
      "min    0.000000e+00  3.000000e+00  4.940589e-05\n",
      "25%    4.072000e+04  1.242280e+05  2.450980e-02\n",
      "50%    8.683000e+04  2.023880e+05  5.769231e-02\n",
      "75%    1.639750e+05  2.770680e+05  1.363636e-01\n",
      "max    3.228960e+05  3.640460e+05  5.000000e-01\n"
     ]
    },
    {
     "data": {
      "image/png": "[encoded data removed]",
      "text/plain": [
       "<Figure size 1500x1000 with 4 Axes>"
      ]
     },
     "metadata": {},
     "output_type": "display_data"
    },
    {
     "data": {
      "image/png": "[encoded data removed]",
      "text/plain": [
       "<Figure size 1000x800 with 2 Axes>"
      ]
     },
     "metadata": {},
     "output_type": "display_data"
    }
   ],
   "source": [
    "perform_aed(df_ratings, titre=\"Ratings\")"
   ]
  },
  {
   "cell_type": "code",
   "execution_count": 36,
   "id": "b4876fa3-fcdc-4b75-8359-6915ba785ddf",
   "metadata": {},
   "outputs": [],
   "source": [
    "# Hyperparamètres pour SVD\n",
    "reader = Reader(rating_scale=(0, 1))\n",
    "data_sample = Dataset.load_from_df(df_ratings.sample(frac=0.1, random_state=42), reader=reader)\n",
    "\n",
    "param_grid = {\n",
    "    'n_factors': [20, 50, 100], \n",
    "    'n_epochs': [10, 20, 50],\n",
    "    'lr_all': [0.002, 0.005, 0.01], \n",
    "    'reg_all': [0.02, 0.04, 0.1]\n",
    "}\n",
    "\n",
    "gs = GridSearchCV(SVD, param_grid, measures=['rmse', 'mae'], cv=3)\n",
    "gs.fit(data_sample)"
   ]
  },
  {
   "cell_type": "code",
   "execution_count": 37,
   "id": "9802c489-3773-4fd9-8e1d-fa8a8b843196",
   "metadata": {},
   "outputs": [
    {
     "name": "stdout",
     "output_type": "stream",
     "text": [
      "Meilleur score RMSE: 0.11408309071020191\n",
      "Meilleurs paramètres: {'n_factors': 20, 'n_epochs': 50, 'lr_all': 0.01, 'reg_all': 0.1}\n"
     ]
    }
   ],
   "source": [
    "# Meilleurs paramètres et score\n",
    "print(\"Meilleur score RMSE:\", gs.best_score['rmse'])\n",
    "print(\"Meilleurs paramètres:\", gs.best_params['rmse'])"
   ]
  },
  {
   "cell_type": "code",
   "execution_count": 38,
   "id": "ee03a191-b066-4e51-8494-a9f66d5937d8",
   "metadata": {},
   "outputs": [
    {
     "data": {
      "text/plain": [
       "<surprise.prediction_algorithms.matrix_factorization.SVD at 0x19c5c036a30>"
      ]
     },
     "execution_count": 38,
     "metadata": {},
     "output_type": "execute_result"
    }
   ],
   "source": [
    "# Modèle final basé sur les meilleurs paramètres\n",
    "data_full = Dataset.load_from_df(df_ratings, reader=reader)\n",
    "trainset = data_full.build_full_trainset()\n",
    "model_SVD = gs.best_estimator['rmse']\n",
    "model_SVD.fit(trainset)"
   ]
  },
  {
   "cell_type": "code",
   "execution_count": 39,
   "id": "1a29fbcc-d3aa-4fad-ac96-8c6878a9cfd4",
   "metadata": {},
   "outputs": [],
   "source": [
    "# Sauvegarder le modèle entraîné\n",
    "with open('datas/' + filepath +'/model_SVD.pkl', 'wb') as file:\n",
    "    pickle.dump(model_SVD, file)"
   ]
  },
  {
   "cell_type": "markdown",
   "id": "d118abf6-e105-4a28-88f3-0cc930fd03ea",
   "metadata": {},
   "source": [
    "### Tests du modèle"
   ]
  },
  {
   "cell_type": "code",
   "execution_count": 40,
   "id": "7412e3a8-dac3-4fd0-96ed-94ce5d549a9a",
   "metadata": {},
   "outputs": [],
   "source": [
    "user_id_example = 1"
   ]
  },
  {
   "cell_type": "code",
   "execution_count": 41,
   "id": "5f634c8a-3852-4cd6-bddf-fdf205e70d7d",
   "metadata": {},
   "outputs": [
    {
     "name": "stdout",
     "output_type": "stream",
     "text": [
      "Recommandations collaboratives pour l'utilisateur {user_id_example} : [74501, 100791, 186070, 283009, 289003]\n"
     ]
    }
   ],
   "source": [
    "test_recommendations = collaborative_filtering_recommendation(df_embeddings, df_clicks, user_id=user_id_example, n=5)\n",
    "print(\"Recommandations collaboratives pour l'utilisateur {user_id_example} :\", test_recommendations)"
   ]
  },
  {
   "cell_type": "code",
   "execution_count": 42,
   "id": "36b8f57e-5be1-4fd4-ace0-c6c8e75d4b87",
   "metadata": {},
   "outputs": [],
   "source": [
    "user_id_example = 5"
   ]
  },
  {
   "cell_type": "code",
   "execution_count": 43,
   "id": "c082c3da-9883-47d7-b213-8da640184464",
   "metadata": {},
   "outputs": [
    {
     "name": "stdout",
     "output_type": "stream",
     "text": [
      "Recommandations collaboratives pour l'utilisateur {user_id_example} : [36162, 39894, 50644, 289003, 352979]\n"
     ]
    }
   ],
   "source": [
    "test_recommendations = collaborative_filtering_recommendation(df_embeddings, df_clicks, user_id=user_id_example, n=5)\n",
    "print(\"Recommandations collaboratives pour l'utilisateur {user_id_example} :\", test_recommendations)"
   ]
  },
  {
   "cell_type": "code",
   "execution_count": 44,
   "id": "aa697f90-1073-49ca-a5d4-8cead2c57476",
   "metadata": {},
   "outputs": [],
   "source": [
    "user_id_example = 156"
   ]
  },
  {
   "cell_type": "code",
   "execution_count": 45,
   "id": "cbc47afe-ff24-4f61-9524-b023c9f9268e",
   "metadata": {},
   "outputs": [
    {
     "name": "stdout",
     "output_type": "stream",
     "text": [
      "Recommandations collaboratives pour l'utilisateur {user_id_example} : [39894, 50644, 277107, 283009, 289003]\n"
     ]
    }
   ],
   "source": [
    "test_recommendations = collaborative_filtering_recommendation(df_embeddings, df_clicks, user_id=user_id_example, n=5)\n",
    "print(\"Recommandations collaboratives pour l'utilisateur {user_id_example} :\", test_recommendations)"
   ]
  },
  {
   "cell_type": "code",
   "execution_count": 46,
   "id": "29deb4dd-0c87-4f12-9d1b-06936fe2b7f8",
   "metadata": {},
   "outputs": [],
   "source": [
    "user_id_example = 850"
   ]
  },
  {
   "cell_type": "code",
   "execution_count": 47,
   "id": "b901ad74-1e11-41a0-a41e-8b7232bb2cb2",
   "metadata": {},
   "outputs": [
    {
     "name": "stdout",
     "output_type": "stream",
     "text": [
      "Recommandations collaboratives pour l'utilisateur {user_id_example} : [39894, 50644, 74501, 277107, 283009]\n"
     ]
    }
   ],
   "source": [
    "test_recommendations = collaborative_filtering_recommendation(df_embeddings, df_clicks, user_id=user_id_example, n=5)\n",
    "print(\"Recommandations collaboratives pour l'utilisateur {user_id_example} :\", test_recommendations)"
   ]
  },
  {
   "cell_type": "code",
   "execution_count": 48,
   "id": "b670ed3e-f30b-422f-bc85-e4c3e01e5465",
   "metadata": {},
   "outputs": [],
   "source": [
    "user_id_example = 12430"
   ]
  },
  {
   "cell_type": "code",
   "execution_count": 49,
   "id": "0b40cc0e-e72f-477c-abb2-8b86ddae7d44",
   "metadata": {},
   "outputs": [
    {
     "name": "stdout",
     "output_type": "stream",
     "text": [
      "Recommandations collaboratives pour l'utilisateur {user_id_example} : [47324, 57790, 62066, 74884, 186070]\n"
     ]
    }
   ],
   "source": [
    "test_recommendations = collaborative_filtering_recommendation(df_embeddings, df_clicks, user_id=user_id_example, n=5)\n",
    "print(\"Recommandations collaboratives pour l'utilisateur {user_id_example} :\", test_recommendations)"
   ]
  },
  {
   "cell_type": "markdown",
   "id": "76a21607-8d10-4153-be43-51e9f6e4dab3",
   "metadata": {},
   "source": [
    "Les articles 74450, 74455, 289003 et 283009 ont été recommandés plusieurs fois."
   ]
  },
  {
   "cell_type": "code",
   "execution_count": 50,
   "id": "fedc3cb2-147b-4212-8ae7-e44ef178fb6a",
   "metadata": {},
   "outputs": [],
   "source": [
    "nb_clicks = df_clicks.groupby('click_article_id').agg({'user_id': 'count'}).rename(columns={'user_id': 'nb_clicks'}).reset_index()\n",
    "nb_clicks = nb_clicks.sort_values(by='nb_clicks', ascending=False)\n",
    "nb_clicks = nb_clicks.head(50)"
   ]
  },
  {
   "cell_type": "code",
   "execution_count": 51,
   "id": "229d1330-790d-41d8-9d04-50d3de95e548",
   "metadata": {},
   "outputs": [
    {
     "data": {
      "text/plain": [
       "<Axes: xlabel='click_article_id'>"
      ]
     },
     "execution_count": 51,
     "metadata": {},
     "output_type": "execute_result"
    },
    {
     "data": {
      "image/png": "[encoded data removed]",
      "text/plain": [
       "<Figure size 2000x1000 with 1 Axes>"
      ]
     },
     "metadata": {},
     "output_type": "display_data"
    }
   ],
   "source": [
    "nb_clicks.plot.bar(x='click_article_id', y='nb_clicks', figsize=(20, 10))"
   ]
  },
  {
   "cell_type": "markdown",
   "id": "546cd278-07fd-447b-aa8e-d0375dcbc67d",
   "metadata": {},
   "source": [
    "Les articles fréquemment recommandés sont souvent ceux qui ont été cliqués par un grand nombre d'utilisateurs."
   ]
  },
  {
   "cell_type": "markdown",
   "id": "53d4081b-d8a3-4643-98cb-58110cd343f3",
   "metadata": {},
   "source": [
    "# Comparaison des modèles"
   ]
  },
  {
   "cell_type": "markdown",
   "id": "340af5ef-b54f-4940-992b-e83393c5f036",
   "metadata": {},
   "source": [
    "## Fonctions"
   ]
  },
  {
   "cell_type": "code",
   "execution_count": 52,
   "id": "91ce0b24-28a9-46fc-9d50-b687ce1a91a3",
   "metadata": {},
   "outputs": [],
   "source": [
    "def calculate_metrics(true_ratings, predicted_ratings, verbose=1, k=5):\n",
    "    \"\"\"Calcul des métriques pour évaluer les modèles.\"\"\"\n",
    "    # RMSE et MAE\n",
    "    rmse = np.sqrt(mean_squared_error(true_ratings, predicted_ratings))\n",
    "    mae = mean_absolute_error(true_ratings, predicted_ratings)\n",
    "\n",
    "    # Reshape des données pour nDCG@k\n",
    "    true_ratings_2d = np.array([true_ratings])\n",
    "    predicted_ratings_2d = np.array([predicted_ratings])\n",
    "\n",
    "    # nDCG@k\n",
    "    ndcg_at_k = ndcg_score(true_ratings_2d, predicted_ratings_2d, k=k)\n",
    "\n",
    "    # Precision@k et Recall@k\n",
    "    precision_at_k = sum(predicted_ratings[:k]) / k\n",
    "    recall_at_k = sum(predicted_ratings[:k]) / sum(true_ratings)\n",
    "\n",
    "    if verbose == 1:\n",
    "        print(f\"Metrics (k={k}):\")\n",
    "        print(f\"RMSE: {rmse:.4f}\")\n",
    "        print(f\"MAE: {mae:.4f}\")\n",
    "        print(f\"Precision@{k}: {precision_at_k:.4f}\")\n",
    "        print(f\"Recall@{k}: {recall_at_k:.4f}\")\n",
    "        print(f\"nDCG@{k}: {ndcg_at_k:.4f}\")\n",
    "    return rmse, mae, precision_at_k, recall_at_k, ndcg_at_k\n"
   ]
  },
  {
   "cell_type": "markdown",
   "id": "db33cba2-691f-494b-81ca-1fde66e44a81",
   "metadata": {},
   "source": [
    "## Calculs des métriques"
   ]
  },
  {
   "cell_type": "markdown",
   "id": "e81d28f6-3bc7-4ac1-be4c-68b5eca1b394",
   "metadata": {},
   "source": [
    "### Test 1"
   ]
  },
  {
   "cell_type": "code",
   "execution_count": 53,
   "id": "f6494d71-178b-41ce-9afd-c306c9f1aba3",
   "metadata": {},
   "outputs": [],
   "source": [
    "# Extraire les notes réelles pour un utilisateur donné\n",
    "user_id_example = 1\n",
    "true_ratings = df_ratings[df_ratings['user_id'] == user_id_example]['rating'].values\n",
    "articles_rated = df_ratings[df_ratings['user_id'] == user_id_example]['article_id'].values"
   ]
  },
  {
   "cell_type": "code",
   "execution_count": 54,
   "id": "c22b8b86-74b9-43c1-b271-352fc506c9cb",
   "metadata": {},
   "outputs": [],
   "source": [
    "predicted_ratings_cb = []\n",
    "for article_id in articles_rated:\n",
    "    similarity_scores = cosine_similarity(\n",
    "        df_embeddings.loc[[article_id]].values,\n",
    "        df_embeddings.values\n",
    "    )\n",
    "    predicted_ratings_cb.append(similarity_scores.mean())  # Exemple de score moyen"
   ]
  },
  {
   "cell_type": "code",
   "execution_count": 55,
   "id": "aed79f5f-4429-4988-9f6e-bcc79c95676d",
   "metadata": {},
   "outputs": [],
   "source": [
    "predicted_ratings_cf = []\n",
    "for article_id in articles_rated:\n",
    "    pred = model_SVD.predict(user_id_example, article_id)\n",
    "    predicted_ratings_cf.append(pred.est)"
   ]
  },
  {
   "cell_type": "code",
   "execution_count": 56,
   "id": "5b7c5d8f-98d3-41d6-9169-0bc56f87e5f2",
   "metadata": {},
   "outputs": [
    {
     "name": "stdout",
     "output_type": "stream",
     "text": [
      "Content-Based Filtering Metrics:\n",
      "Metrics (k=5):\n",
      "RMSE: 0.1266\n",
      "MAE: 0.1233\n",
      "Precision@5: 0.1893\n",
      "Recall@5: 0.9467\n",
      "nDCG@5: 1.0000\n"
     ]
    },
    {
     "data": {
      "text/plain": [
       "(0.12661708948037928,\n",
       " 0.12329727162917459,\n",
       " 0.1893395185470581,\n",
       " 0.9466975927352905,\n",
       " 0.9999999999999999)"
      ]
     },
     "execution_count": 56,
     "metadata": {},
     "output_type": "execute_result"
    }
   ],
   "source": [
    "# Calcul des métriques pour Content-Based Filtering\n",
    "print(\"Content-Based Filtering Metrics:\")\n",
    "calculate_metrics(true_ratings, predicted_ratings_cb, k=5)"
   ]
  },
  {
   "cell_type": "code",
   "execution_count": 57,
   "id": "8df9cafa-9120-4c34-be07-72bb187b7262",
   "metadata": {},
   "outputs": [
    {
     "name": "stdout",
     "output_type": "stream",
     "text": [
      "Collaborative Filtering Metrics:\n",
      "Metrics (k=5):\n",
      "RMSE: 0.0547\n",
      "MAE: 0.0390\n",
      "Precision@5: 0.0822\n",
      "Recall@5: 0.4111\n",
      "nDCG@5: 1.0000\n"
     ]
    },
    {
     "data": {
      "text/plain": [
       "(0.05470682072579037,\n",
       " 0.038967273303654015,\n",
       " 0.08222999412009964,\n",
       " 0.4111499706004982,\n",
       " 0.9999999999999999)"
      ]
     },
     "execution_count": 57,
     "metadata": {},
     "output_type": "execute_result"
    }
   ],
   "source": [
    "# Calcul des métriques pour Collaborative Filtering\n",
    "print(\"Collaborative Filtering Metrics:\")\n",
    "calculate_metrics(true_ratings, predicted_ratings_cf, k=5)"
   ]
  },
  {
   "cell_type": "markdown",
   "id": "15087da5-cba4-4b14-9cb7-5d36b4acc11e",
   "metadata": {},
   "source": [
    "### Test 2"
   ]
  },
  {
   "cell_type": "code",
   "execution_count": 58,
   "id": "d4ed0918-e80e-4b02-ba18-101ba4d7ccc9",
   "metadata": {},
   "outputs": [],
   "source": [
    "# Extraire les notes réelles pour un utilisateur donné\n",
    "user_id_example = 25647\n",
    "true_ratings = df_ratings[df_ratings['user_id'] == user_id_example]['rating'].values\n",
    "articles_rated = df_ratings[df_ratings['user_id'] == user_id_example]['article_id'].values"
   ]
  },
  {
   "cell_type": "code",
   "execution_count": 59,
   "id": "87353665-337f-4b49-b05e-e286b1d18652",
   "metadata": {},
   "outputs": [],
   "source": [
    "predicted_ratings_cb = []\n",
    "for article_id in articles_rated:\n",
    "    similarity_scores = cosine_similarity(\n",
    "        df_embeddings.loc[[article_id]].values,\n",
    "        df_embeddings.values\n",
    "    )\n",
    "    predicted_ratings_cb.append(similarity_scores.mean())  # Exemple de score moyen"
   ]
  },
  {
   "cell_type": "code",
   "execution_count": 60,
   "id": "2132794d-cdf5-4fba-a79c-8074ffa8f921",
   "metadata": {},
   "outputs": [],
   "source": [
    "predicted_ratings_cf = []\n",
    "for article_id in articles_rated:\n",
    "    pred = model_SVD.predict(user_id_example, article_id)\n",
    "    predicted_ratings_cf.append(pred.est)"
   ]
  },
  {
   "cell_type": "code",
   "execution_count": 61,
   "id": "a2920a85-3058-4143-ada4-8be2a4a3b516",
   "metadata": {},
   "outputs": [
    {
     "name": "stdout",
     "output_type": "stream",
     "text": [
      "Content-Based Filtering Metrics:\n",
      "Metrics (k=5):\n",
      "RMSE: 0.1673\n",
      "MAE: 0.1623\n",
      "Precision@5: 0.1957\n",
      "Recall@5: 0.9783\n",
      "nDCG@5: 0.3933\n"
     ]
    },
    {
     "data": {
      "text/plain": [
       "(0.16728568083602027,\n",
       " 0.16226809697620795,\n",
       " 0.19565165042877197,\n",
       " 0.9782582521438599,\n",
       " 0.3933424357628723)"
      ]
     },
     "execution_count": 61,
     "metadata": {},
     "output_type": "execute_result"
    }
   ],
   "source": [
    "# Calcul des métriques pour Content-Based Filtering\n",
    "print(\"Content-Based Filtering Metrics:\")\n",
    "calculate_metrics(true_ratings, predicted_ratings_cb, k=5)"
   ]
  },
  {
   "cell_type": "code",
   "execution_count": 62,
   "id": "d03d500c-958f-438b-a2bd-5674816735a3",
   "metadata": {},
   "outputs": [
    {
     "name": "stdout",
     "output_type": "stream",
     "text": [
      "Taille de true_ratings : 33\n",
      "Taille de predicted_ratings_cf : 33\n"
     ]
    }
   ],
   "source": [
    "print(f\"Taille de true_ratings : {len(true_ratings)}\")\n",
    "print(f\"Taille de predicted_ratings_cf : {len(predicted_ratings_cf)}\")"
   ]
  },
  {
   "cell_type": "code",
   "execution_count": 63,
   "id": "00bbe2ae-6a8f-481c-bc2e-5810507415e4",
   "metadata": {},
   "outputs": [],
   "source": [
    "min_length = min(len(true_ratings), len(predicted_ratings_cf))\n",
    "true_ratings = true_ratings[:min_length]\n",
    "predicted_ratings_cf = predicted_ratings_cf[:min_length]"
   ]
  },
  {
   "cell_type": "code",
   "execution_count": 64,
   "id": "f1d376f9-54b7-452c-ae35-9598a0cb5632",
   "metadata": {},
   "outputs": [
    {
     "name": "stdout",
     "output_type": "stream",
     "text": [
      "Collaborative Filtering Metrics:\n",
      "Metrics (k=5):\n",
      "RMSE: 0.1217\n",
      "MAE: 0.1078\n",
      "Precision@5: 0.1467\n",
      "Recall@5: 0.7337\n",
      "nDCG@5: 0.3333\n"
     ]
    },
    {
     "data": {
      "text/plain": [
       "(0.1216716109192243,\n",
       " 0.10784043281176559,\n",
       " 0.14674695769782237,\n",
       " 0.7337347884891118,\n",
       " 0.3333333333333333)"
      ]
     },
     "execution_count": 64,
     "metadata": {},
     "output_type": "execute_result"
    }
   ],
   "source": [
    "# Calcul des métriques pour Collaborative Filtering\n",
    "print(\"Collaborative Filtering Metrics:\")\n",
    "calculate_metrics(true_ratings, predicted_ratings_cf, k=5)"
   ]
  },
  {
   "cell_type": "markdown",
   "id": "a9eafaab-a7f0-49f2-854d-19452ba078bb",
   "metadata": {},
   "source": [
    "### Visualisations graphiques"
   ]
  },
  {
   "cell_type": "code",
   "execution_count": 65,
   "id": "9af518dc-7f90-4ff0-af86-22eb556e60c8",
   "metadata": {},
   "outputs": [],
   "source": [
    "# Initialiser des structures pour stocker les métriques\n",
    "metrics_cb = defaultdict(list)\n",
    "metrics_cf = defaultdict(list)"
   ]
  },
  {
   "cell_type": "code",
   "execution_count": 66,
   "id": "8524b13d-319d-42de-b8c1-fb10a5260cbc",
   "metadata": {},
   "outputs": [],
   "source": [
    "# Liste des utilisateurs\n",
    "user_ids = df_ratings['user_id'].unique()"
   ]
  },
  {
   "cell_type": "code",
   "execution_count": 67,
   "id": "ff185b19-320b-42ae-8594-ff028653611d",
   "metadata": {},
   "outputs": [
    {
     "name": "stdout",
     "output_type": "stream",
     "text": [
      "Nombre d'utilisateurs uniques : 322897\n"
     ]
    }
   ],
   "source": [
    "# Taille de la liste des utilisateurs uniques\n",
    "user_count = len(user_ids)\n",
    "print(f\"Nombre d'utilisateurs uniques : {user_count}\")"
   ]
  },
  {
   "cell_type": "code",
   "execution_count": 68,
   "id": "efe641a9-f36a-47a3-ad09-312d55261967",
   "metadata": {},
   "outputs": [
    {
     "name": "stdout",
     "output_type": "stream",
     "text": [
      "Nombre d'utilisateurs dans l'échantillon : 1000\n"
     ]
    }
   ],
   "source": [
    "# Définir la taille de l'échantillon (par exemple, 500 utilisateurs)\n",
    "sample_size = 1000\n",
    "\n",
    "# Prendre un échantillon aléatoire d'utilisateurs\n",
    "sample_user_ids = np.random.choice(user_ids, size=sample_size, replace=False)\n",
    "\n",
    "print(f\"Nombre d'utilisateurs dans l'échantillon : {len(sample_user_ids)}\")"
   ]
  },
  {
   "cell_type": "code",
   "execution_count": 69,
   "id": "bfa8b3f5-f1ed-48bd-8c95-6596452b7f41",
   "metadata": {
    "scrolled": true
   },
   "outputs": [],
   "source": [
    "for user_id in sample_user_ids:\n",
    "    # Notes réelles et articles pour l'utilisateur\n",
    "    true_ratings = df_ratings[df_ratings['user_id'] == user_id]['rating'].values\n",
    "    articles_rated = df_ratings[df_ratings['user_id'] == user_id]['article_id'].values\n",
    "\n",
    "    # Prédictions pour Content-Based Filtering\n",
    "    predicted_ratings_cb = []\n",
    "    for article_id in articles_rated:\n",
    "        similarity_scores = cosine_similarity(\n",
    "            df_embeddings.loc[[article_id]].values,\n",
    "            df_embeddings.values\n",
    "        )\n",
    "        predicted_ratings_cb.append(similarity_scores.mean())  # Exemple de score moyen\n",
    "\n",
    "    # Prédictions pour Collaborative Filtering\n",
    "    predicted_ratings_cf = []\n",
    "    for article_id in articles_rated:\n",
    "        pred = model_SVD.predict(user_id, article_id)\n",
    "        predicted_ratings_cf.append(pred.est)\n",
    "\n",
    "    # Calcul des métriques pour Content-Based Filtering\n",
    "    rmse, mae, precision, recall, ndcg = calculate_metrics(true_ratings, predicted_ratings_cb, verbose=0, k=5)\n",
    "    metrics_cb['RMSE'].append(rmse)\n",
    "    metrics_cb['MAE'].append(mae)\n",
    "    metrics_cb['Precision@5'].append(precision)\n",
    "    metrics_cb['Recall@5'].append(recall)\n",
    "    metrics_cb['nDCG@5'].append(ndcg)\n",
    "\n",
    "    # Calcul des métriques pour Collaborative Filtering\n",
    "    rmse, mae, precision, recall, ndcg = calculate_metrics(true_ratings, predicted_ratings_cf, verbose=0, k=5)\n",
    "    metrics_cf['RMSE'].append(rmse)\n",
    "    metrics_cf['MAE'].append(mae)\n",
    "    metrics_cf['Precision@5'].append(precision)\n",
    "    metrics_cf['Recall@5'].append(recall)\n",
    "    metrics_cf['nDCG@5'].append(ndcg)"
   ]
  },
  {
   "cell_type": "code",
   "execution_count": 70,
   "id": "dadada19-b062-455d-a83c-8814ba783cf5",
   "metadata": {},
   "outputs": [
    {
     "data": {
      "image/png": "[encoded data removed]",
      "text/plain": [
       "<Figure size 1000x600 with 1 Axes>"
      ]
     },
     "metadata": {},
     "output_type": "display_data"
    }
   ],
   "source": [
    "# Moyennes des métriques pour chaque méthode\n",
    "metrics = ['RMSE', 'MAE', 'Precision@5', 'Recall@5', 'nDCG@5']\n",
    "cb_means = [np.mean(metrics_cb[metric]) for metric in metrics]\n",
    "cf_means = [np.mean(metrics_cf[metric]) for metric in metrics]\n",
    "\n",
    "# Tracer les comparaisons\n",
    "x = np.arange(len(metrics))  # Indices des métriques\n",
    "width = 0.35  # Largeur des barres\n",
    "\n",
    "fig, ax = plt.subplots(figsize=(10, 6))\n",
    "bars_cb = ax.bar(x - width/2, cb_means, width, label='Content-Based Filtering')\n",
    "bars_cf = ax.bar(x + width/2, cf_means, width, label='Collaborative Filtering')\n",
    "\n",
    "# Ajouter des labels et un titre\n",
    "ax.set_xlabel('Métriques')\n",
    "ax.set_ylabel('Valeurs moyennes')\n",
    "ax.set_title('Comparaison des métriques entre Content-Based et Collaborative Filtering')\n",
    "ax.set_xticks(x)\n",
    "ax.set_xticklabels(metrics)\n",
    "ax.legend()\n",
    "\n",
    "# Afficher les valeurs sur les barres\n",
    "for bars in [bars_cb, bars_cf]:\n",
    "    for bar in bars:\n",
    "        height = bar.get_height()\n",
    "        ax.annotate(f'{height:.2f}', \n",
    "                    xy=(bar.get_x() + bar.get_width() / 2, height),\n",
    "                    xytext=(0, 3),  # Décalage\n",
    "                    textcoords=\"offset points\",\n",
    "                    ha='center', va='bottom')\n",
    "\n",
    "plt.tight_layout()\n",
    "plt.show()"
   ]
  },
  {
   "cell_type": "markdown",
   "id": "3f8d1bcc-70da-4293-8afb-1e47942e5f54",
   "metadata": {},
   "source": [
    "## Conclusion"
   ]
  },
  {
   "cell_type": "markdown",
   "id": "16f9ef9d-06bf-46d9-bcb1-c5a146b905b5",
   "metadata": {},
   "source": [
    "Le Collaborative Filtering semble globalement meilleur, car il a de meilleures performances en termes de RMSE et MAE, indiquant une plus grande précision pour les prédictions.\n",
    "\n",
    "Le Content-Based Filtering a un léger avantage en termes de rappel, ce qui signifie qu'il capture mieux une plus grande proportion des articles pertinents dans ses recommandations.\n",
    "\n",
    "Les deux modèles sont comparables en termes de nDCG@5 et Precision@5, ce qui montre qu'ils ordonnent les recommandations de manière similaire."
   ]
  }
 ],
 "metadata": {
  "kernelspec": {
   "display_name": "Python 3 (ipykernel)",
   "language": "python",
   "name": "python3"
  },
  "language_info": {
   "codemirror_mode": {
    "name": "ipython",
    "version": 3
   },
   "file_extension": ".py",
   "mimetype": "text/x-python",
   "name": "python",
   "nbconvert_exporter": "python",
   "pygments_lexer": "ipython3",
   "version": "3.12.8"
  }
 },
 "nbformat": 4,
 "nbformat_minor": 5
}
